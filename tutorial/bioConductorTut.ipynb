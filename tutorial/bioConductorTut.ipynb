{
 "cells": [
  {
   "cell_type": "markdown",
   "id": "f95b3814-303b-401c-bd61-5e91424e742b",
   "metadata": {},
   "source": [
    "# Importing libraries"
   ]
  },
  {
   "cell_type": "code",
   "execution_count": 1,
   "id": "e3d17d09-db51-4715-baff-9c1290c5e15b",
   "metadata": {},
   "outputs": [
    {
     "name": "stderr",
     "output_type": "stream",
     "text": [
      "── \u001b[1mAttaching core tidyverse packages\u001b[22m ─────────────────────── tidyverse 2.0.0 ──\n",
      "\u001b[32m✔\u001b[39m \u001b[34mdplyr    \u001b[39m 1.1.4     \u001b[32m✔\u001b[39m \u001b[34mreadr    \u001b[39m 2.1.5\n",
      "\u001b[32m✔\u001b[39m \u001b[34mforcats  \u001b[39m 1.0.0     \u001b[32m✔\u001b[39m \u001b[34mstringr  \u001b[39m 1.5.1\n",
      "\u001b[32m✔\u001b[39m \u001b[34mggplot2  \u001b[39m 3.5.1     \u001b[32m✔\u001b[39m \u001b[34mtibble   \u001b[39m 3.2.1\n",
      "\u001b[32m✔\u001b[39m \u001b[34mlubridate\u001b[39m 1.9.3     \u001b[32m✔\u001b[39m \u001b[34mtidyr    \u001b[39m 1.3.1\n",
      "\u001b[32m✔\u001b[39m \u001b[34mpurrr    \u001b[39m 1.0.2     \n",
      "── \u001b[1mConflicts\u001b[22m ───────────────────────────────────────── tidyverse_conflicts() ──\n",
      "\u001b[31m✖\u001b[39m \u001b[34mdplyr\u001b[39m::\u001b[32mfilter()\u001b[39m masks \u001b[34mstats\u001b[39m::filter()\n",
      "\u001b[31m✖\u001b[39m \u001b[34mdplyr\u001b[39m::\u001b[32mlag()\u001b[39m    masks \u001b[34mstats\u001b[39m::lag()\n",
      "\u001b[36mℹ\u001b[39m Use the conflicted package (\u001b[3m\u001b[34m<http://conflicted.r-lib.org/>\u001b[39m\u001b[23m) to force all conflicts to become errors\n"
     ]
    }
   ],
   "source": [
    "library(\"tidyverse\")"
   ]
  },
  {
   "cell_type": "markdown",
   "id": "3dabffbc-3bb0-4309-b057-5223ce678beb",
   "metadata": {},
   "source": [
    "# Install some new libraries"
   ]
  },
  {
   "cell_type": "code",
   "execution_count": 1,
   "id": "89c7bc1a-80f9-4780-89f8-58529e87e2c6",
   "metadata": {},
   "outputs": [
    {
     "name": "stderr",
     "output_type": "stream",
     "text": [
      "Updating HTML index of packages in '.Library'\n",
      "\n",
      "Making 'packages.html' ...\n",
      " done\n",
      "\n",
      "'getOption(\"repos\")' replaces Bioconductor standard repositories, see\n",
      "'help(\"repositories\", package = \"BiocManager\")' for details.\n",
      "Replacement repositories:\n",
      "    CRAN: https://cran.r-project.org\n",
      "\n",
      "Bioconductor version 3.18 (BiocManager 1.30.23), R 4.3.3 (2024-02-29)\n",
      "\n",
      "Installing package(s) 'BiocVersion', 'SpatialFeatureExperiment'\n",
      "\n",
      "also installing the dependencies ‘zlibbioc’, ‘plogr’, ‘bitops’, ‘lambda.r’, ‘futile.options’, ‘wk’, ‘XVector’, ‘SparseArray’, ‘RSQLite’, ‘filelock’, ‘matrixStats’, ‘RCurl’, ‘GenomeInfoDbData’, ‘abind’, ‘RcppHNSW’, ‘futile.logger’, ‘snow’, ‘BH’, ‘classInt’, ‘s2’, ‘units’, ‘GenomicRanges’, ‘DelayedArray’, ‘magick’, ‘BiocFileCache’, ‘spData’, ‘deldir’, ‘sp’, ‘MatrixGenerics’, ‘Biobase’, ‘IRanges’, ‘GenomeInfoDb’, ‘S4Arrays’, ‘BiocGenerics’, ‘BiocNeighbors’, ‘BiocParallel’, ‘rjson’, ‘S4Vectors’, ‘sf’, ‘SingleCellExperiment’, ‘SpatialExperiment’, ‘spdep’, ‘SummarizedExperiment’, ‘terra’\n",
      "\n",
      "\n",
      "Warning message in install.packages(...):\n",
      "“installation of package ‘units’ had non-zero exit status”\n",
      "Warning message in install.packages(...):\n",
      "“installation of package ‘magick’ had non-zero exit status”\n",
      "Warning message in install.packages(...):\n",
      "“installation of package ‘sf’ had non-zero exit status”\n",
      "Warning message in install.packages(...):\n",
      "“installation of package ‘spdep’ had non-zero exit status”\n",
      "Warning message in install.packages(...):\n",
      "“installation of package ‘SpatialExperiment’ had non-zero exit status”\n",
      "Warning message in install.packages(...):\n",
      "“installation of package ‘SpatialFeatureExperiment’ had non-zero exit status”\n",
      "Updating HTML index of packages in '.Library'\n",
      "\n",
      "Making 'packages.html' ...\n",
      " done\n",
      "\n",
      "Old packages: 'lava'\n",
      "\n"
     ]
    }
   ],
   "source": [
    "if (!require(\"BiocManager\", quietly = TRUE))\n",
    "    install.packages(\"BiocManager\")\n",
    "\n",
    "BiocManager::install(\"SpatialFeatureExperiment\")"
   ]
  }
 ],
 "metadata": {
  "kernelspec": {
   "display_name": "R",
   "language": "R",
   "name": "ir"
  },
  "language_info": {
   "codemirror_mode": "r",
   "file_extension": ".r",
   "mimetype": "text/x-r-source",
   "name": "R",
   "pygments_lexer": "r",
   "version": "4.3.3"
  }
 },
 "nbformat": 4,
 "nbformat_minor": 5
}
